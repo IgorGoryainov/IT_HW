{
 "cells": [
  {
   "cell_type": "code",
   "execution_count": 18,
   "metadata": {},
   "outputs": [
    {
     "name": "stdout",
     "output_type": "stream",
     "text": [
      "3 6\n",
      "453\n",
      "220\n",
      "601\n",
      "200\n"
     ]
    }
   ],
   "source": [
    "import math\n",
    "\n",
    "#Initialization\n",
    "accountsSumList = []\n",
    "\n",
    "#Data input\n",
    "accountsCount, managersCount = map(int, input().split())\n",
    "for i in range(accountsCount):\n",
    "    accountsSumList.append(int(input()))\n",
    "\n",
    "#Initialization\n",
    "accountsSumList.sort()\n",
    "minimum = 0\n",
    "maximum = sum(accountsSumList)\n",
    "\n",
    "#Algorithm\n",
    "while maximum - minimum > 1:\n",
    "    currentSum = math.floor((maximum + minimum) / 2)\n",
    "    countDivision = 0\n",
    "    if currentSum == 0:\n",
    "        break\n",
    "    for i in range(accountsCount):\n",
    "        countDivision += math.floor(accountsSumList[i] / currentSum)\n",
    "    if countDivision < managersCount:\n",
    "        maximum = currentSum\n",
    "    elif countDivision > managersCount:\n",
    "        minimum = currentSum\n",
    "    else:\n",
    "        while countDivision == managersCount:\n",
    "            currentSum += 1\n",
    "            countDivision = 0\n",
    "            for i in range(accountsCount):\n",
    "                countDivision += math.floor(accountsSumList[i] / currentSum)\n",
    "        currentSum -= 1\n",
    "        break\n",
    "\n",
    "print(currentSum)"
   ]
  },
  {
   "cell_type": "code",
   "execution_count": null,
   "metadata": {},
   "outputs": [],
   "source": []
  }
 ],
 "metadata": {
  "kernelspec": {
   "display_name": "Python 3",
   "language": "python",
   "name": "python3"
  },
  "language_info": {
   "codemirror_mode": {
    "name": "ipython",
    "version": 3
   },
   "file_extension": ".py",
   "mimetype": "text/x-python",
   "name": "python",
   "nbconvert_exporter": "python",
   "pygments_lexer": "ipython3",
   "version": "3.7.4"
  }
 },
 "nbformat": 4,
 "nbformat_minor": 2
}
